{
  "nbformat": 4,
  "nbformat_minor": 0,
  "metadata": {
    "colab": {
      "provenance": []
    },
    "kernelspec": {
      "name": "python3",
      "display_name": "Python 3"
    },
    "language_info": {
      "name": "python"
    }
  },
  "cells": [
    {
      "cell_type": "code",
      "execution_count": 1,
      "metadata": {
        "id": "ZqRTvoPScYa5"
      },
      "outputs": [],
      "source": [
        "!pip install -q streamlit"
      ]
    },
    {
      "cell_type": "code",
      "source": [
        "from google.colab import userdata\n",
        "import os\n",
        "import streamlit as st\n",
        "api_key = userdata.get('GROK_KEY')"
      ],
      "metadata": {
        "id": "XT2Gw6ZrUFQE"
      },
      "execution_count": 2,
      "outputs": []
    },
    {
      "cell_type": "code",
      "source": [
        "app_content = f\"\"\"\n",
        "import streamlit as st\n",
        "import os\n",
        "from openai import OpenAI\n",
        "api_key = \"{api_key}\"\n",
        "\n",
        "client = OpenAI(\n",
        "    api_key=api_key,\n",
        "    base_url=\"https://api.groq.com/openai/v1\"\n",
        ")\n",
        "\n",
        "model_name = \"groq/compound-mini\"\n",
        "\n",
        "def get_response(topic):\n",
        "    prompt = f\"Write a blog post about {{topic}} with a length of approximately 100 words.\"\n",
        "\n",
        "    try:\n",
        "        response = client.chat.completions.create(\n",
        "            model=model_name,\n",
        "            messages=[\n",
        "                {{\"role\": \"user\",\n",
        "                  \"content\": prompt}} # Escape curly braces\n",
        "            ]\n",
        "        )\n",
        "        return response.choices[0].message.content\n",
        "    except Exception as e:\n",
        "        st.error(f\"Error from Groq API: {{e}}\") # Escape curly braces\n",
        "        return None\n",
        "\n",
        "\n",
        "st.set_page_config(page_title = \"Blog Post Generator\")\n",
        "st.header(\"Groq LLM Blog Post Generator\")\n",
        "topic_input = st.text_input(\"Blog Post Topic:\", key = \"topic_input\")\n",
        "submit = st.button(\"Generate Blog Post\")\n",
        "\n",
        "if submit:\n",
        "      if topic_input:\n",
        "          response = get_response(topic_input)\n",
        "          st.subheader(\"Generated Blog Post:\")\n",
        "          st.write(response)\n",
        "\"\"\"\n",
        "with open(\"blogg.py\", \"w\") as f:\n",
        "    f.write(app_content)"
      ],
      "metadata": {
        "id": "7Uva6vV4nwi_"
      },
      "execution_count": 3,
      "outputs": []
    },
    {
      "cell_type": "code",
      "source": [
        "!streamlit run blogg.py"
      ],
      "metadata": {
        "colab": {
          "base_uri": "https://localhost:8080/"
        },
        "id": "gV8DXNd-Yt_d",
        "outputId": "d9a7f1dd-f56c-40dd-b13e-db9ad4cb0f6a"
      },
      "execution_count": 6,
      "outputs": [
        {
          "output_type": "stream",
          "name": "stdout",
          "text": [
            "\n",
            "Collecting usage statistics. To deactivate, set browser.gatherUsageStats to false.\n",
            "\u001b[0m\n",
            "\u001b[0m\n",
            "\u001b[34m\u001b[1m  You can now view your Streamlit app in your browser.\u001b[0m\n",
            "\u001b[0m\n",
            "\u001b[34m  Local URL: \u001b[0m\u001b[1mhttp://localhost:8501\u001b[0m\n",
            "\u001b[34m  Network URL: \u001b[0m\u001b[1mhttp://172.28.0.12:8501\u001b[0m\n",
            "\u001b[34m  External URL: \u001b[0m\u001b[1mhttp://34.106.230.100:8501\u001b[0m\n",
            "\u001b[0m\n",
            "\u001b[34m  Stopping...\u001b[0m\n",
            "\u001b[34m  Stopping...\u001b[0m\n",
            "Exception ignored in atexit callback: <function shutdown at 0x7eb9a9b77060>\n",
            "Traceback (most recent call last):\n",
            "  File \"/usr/lib/python3.12/logging/__init__.py\", line 2264, in shutdown\n",
            "    h.flush()\n",
            "  File \"/usr/lib/python3.12/logging/__init__.py\", line 1144, in flush\n",
            "    self.stream.flush()\n",
            "  File \"/usr/local/lib/python3.12/dist-packages/streamlit/web/bootstrap.py\", line 42, in signal_handler\n",
            "    server.stop()\n",
            "  File \"/usr/local/lib/python3.12/dist-packages/streamlit/web/server/server.py\", line 510, in stop\n",
            "    self._runtime.stop()\n",
            "  File \"/usr/local/lib/python3.12/dist-packages/streamlit/runtime/runtime.py\", line 329, in stop\n",
            "    async_objs.eventloop.call_soon_threadsafe(stop_on_eventloop)\n",
            "  File \"/usr/lib/python3.12/asyncio/base_events.py\", line 844, in call_soon_threadsafe\n",
            "    self._check_closed()\n",
            "  File \"/usr/lib/python3.12/asyncio/base_events.py\", line 545, in _check_closed\n",
            "    raise RuntimeError('Event loop is closed')\n",
            "RuntimeError: Event loop is closed\n"
          ]
        }
      ]
    }
  ]
}