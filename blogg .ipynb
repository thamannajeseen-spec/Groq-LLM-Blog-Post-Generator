{
  "nbformat": 4,
  "nbformat_minor": 0,
  "metadata": {
    "colab": {
      "provenance": []
    },
    "kernelspec": {
      "name": "python3",
      "display_name": "Python 3"
    },
    "language_info": {
      "name": "python"
    }
  },
  "cells": [
    {
      "cell_type": "code",
      "execution_count": null,
      "metadata": {
        "id": "ZqRTvoPScYa5"
      },
      "outputs": [],
      "source": [
        "!pip install -q streamlit"
      ]
    },
    {
      "cell_type": "code",
      "source": [
        "from google.colab import userdata\n",
        "import os\n",
        "import streamlit as st\n",
        "api_key = userdata.get('GROK_KEY')"
      ],
      "metadata": {
        "id": "XT2Gw6ZrUFQE"
      },
      "execution_count": null,
      "outputs": []
    },
    {
      "cell_type": "code",
      "source": [
        "app_content = f\"\"\"\n",
        "import streamlit as st\n",
        "import os\n",
        "from openai import OpenAI\n",
        "api_key = \"{api_key}\"\n",
        "\n",
        "client = OpenAI(\n",
        "    api_key=api_key,\n",
        "    base_url=\"https://api.groq.com/openai/v1\"\n",
        ")\n",
        "\n",
        "model_name = \"groq/compound-mini\"\n",
        "\n",
        "def get_response(topic):\n",
        "    prompt = f\"Write a blog post about {{topic}} with a length of approximately 100 words.\"\n",
        "\n",
        "    try:\n",
        "        response = client.chat.completions.create(\n",
        "            model=model_name,\n",
        "            messages=[\n",
        "                {{\"role\": \"user\",\n",
        "                  \"content\": prompt}} # Escape curly braces\n",
        "            ]\n",
        "        )\n",
        "        return response.choices[0].message.content\n",
        "    except Exception as e:\n",
        "        st.error(f\"Error from Groq API: {{e}}\") # Escape curly braces\n",
        "        return None\n",
        "\n",
        "\n",
        "st.set_page_config(page_title = \"Blog Post Generator\")\n",
        "st.header(\"Groq LLM Blog Post Generator\")\n",
        "topic_input = st.text_input(\"Blog Post Topic:\", key = \"topic_input\")\n",
        "submit = st.button(\"Generate Blog Post\")\n",
        "\n",
        "if submit:\n",
        "      if topic_input:\n",
        "          response = get_response(topic_input)\n",
        "          st.subheader(\"Generated Blog Post:\")\n",
        "          st.write(response)\n",
        "\"\"\"\n",
        "with open(\"blogg.py\", \"w\") as f:\n",
        "    f.write(app_content)"
      ],
      "metadata": {
        "id": "7Uva6vV4nwi_"
      },
      "execution_count": null,
      "outputs": []
    },
    {
      "cell_type": "code",
      "source": [
        "!streamlit run blogg.py"
      ],
      "metadata": {
        "id": "UJAmqsH7w4iu"
      },
      "execution_count": null,
      "outputs": []
    }
  ]
}